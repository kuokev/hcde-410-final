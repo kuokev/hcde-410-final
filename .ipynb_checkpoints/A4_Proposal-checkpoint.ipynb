{
 "cells": [
  {
   "cell_type": "markdown",
   "id": "af26cbc8-0472-4eb1-927f-490d0c3852f0",
   "metadata": {},
   "source": [
    "# Motivation and Problem Statement\n",
    "**Plan A:** My initial proposal is to use trail data from the WTA website—trailhead coordinates, hike length, elevation gain, rating, and number of reviews—and compare that with the distance from a point in Seattle. I’m interested in finding out if there are any correlations between how far away a hike is from Seattle and its attributes and popularity. It may be interesting to see how the popularity of a hike changes depending on its distance from Seattle. It may also be interesting to see if hikes farther away might produce better results, or if longer hikes might result in better ratings. For instance, there is a known effect where more expensive items are perceived as higher quality from individuals, even if there isn’t a tangible difference. Although, it’s also important to note that the analysis would rely on a very large assumption that most hikers are coming from the Seattle area, which isn’t entirely reflective of reality since there are also hikers coming from other cities. \n",
    "\n",
    "**Plan B:** In case Plan A is too ambitious or I am unable to receive proper permission for using the website data (see Data Selected for Analysis for details on why that is), I have a backup! The U.S. Forest Service (USFS) operates an annual lottery for overnight camping permits in the Enchantments. The Enchantments are a popular area for hikers in the state of Washington, but to protect the plants and animals in the area, the USFS limits entry into the area via a permit system. Each year, hopeful hikers must register for the lottery for a chance to get a permit. Hikers must select their top 3 choices for an entry day and the zone within the Enchantments they want to visit, the “Core Zone” being the most popular. In the 2019 and 2020 cycles, the raw data of applicants was also released publicly via PDFs. While the USFS posts a summary PDF on the most popular days, which gives potential applicants an idea of what days to avoid, I wonder if analysis can be done to identify the combinations that optimize the chances of a hiker being selected. Since the lottery strives to fill up each day’s allotte permits to the maximum, I wonder if single-hiker applicants also have an increased chance of entry if they are used to fill in the remainders, and if so, by how much. \n",
    "\n",
    "I am interested in both Plan A and Plan B because of their topic being related to the outdoors. I’m a frequent hiker, and Plan A can reveal some details on the relationship between how much effort is needed to get to a hike (and complete a hike) and its popularity of perceived awesomeness. Meanwhile, Plan B has some more direct benefits of learning what day, zone, and party size combinations might be best to score an Enchantments permit, which I have not managed to do yet. \n",
    "\n",
    "\n",
    "# Data Selected for Analysis\n",
    "Plan A would require a scraping of the WTA website’s trail directory for relevant information like hike length, elevation gain, rating, number of reviews, and coordinates. All the aforementioned details are located on an individual hike’s page, but must be retrieved first. There is not a publicly available database or API that the WTA has released, as far as I’m aware. Thus, Plan A would require (1) advanced permission, which I’ve asked about but am still waiting on a reply for, (2) scraping with a Python script, and (3) cleaning the data and performing the actual analysis. The closest text to a license as posted on the WTA website is the WTA Terms of Service, which states that \"You may view, copy, download, and print Content that is available on this website, subject to the following conditions:\n",
    "- The Content may be used solely for internal informational purposes. No part of this website or its Content may be reproduced or transmitted in any form, by any means, electronic or mechanical, including photocopying and recording, for any other purpose.\n",
    "- The Content may not be modified.\n",
    "- Copyright, trademark, and other proprietary notices may not be removed.\n",
    "Nothing contained on this website should be construed as granting, by implication, estoppel, or otherwise, any license or right to use this website or any Content displayed on this website, through the use of framing or otherwise, except: (a) as expressly permitted by these Terms of Use; or (b) with our prior written permission or the permission of such third party that may own the trademark or copyright of material displayed on this website.\"\n",
    "\n",
    "While there are many options for trail information out there, although in decreasing amounts with the recent acquisition by onX of HikingProject (see: https://www.hikingproject.com/data), the WTA provides the best source of information for the trails within Washington, since that’s what the website is focused on, in contrast to other sources that include a more national inventory of trails. I am not aware of any ethical considerations to using the data gathered, if permission is granted. User-generated content will not be collected and the data describes places rather than people, which reduces worry about privacy. All data will also have been available to other users, as it would be pulled from a publicly available area. In the case where express permission is not grante by WTA, a Python scraper may increase the burden on the website via increased web traffic. Usage of the collected data may also not be in accordance with the Terms of Service if it is released publicly versus kept private and only releasing the results. \n",
    "\n",
    "For Plan B, the permit lottery data is available from [here](https://web.archive.org/web/20201020211744/https://www.fs.usda.gov/Internet/FSE_DOCUMENTS/fseprd695975.pdf) (2019) and [here](https://www.fs.usda.gov/Internet/FSE_DOCUMENTS/fseprd695975.pdf) (2020). The PDFs can be converted into spreadsheet format via Google Sheets. While the license is not explicity stated within the page or the PDF, the USFS is part of the U.S. Department of Agriculture, which has a website “Digital Rights and Copyright” section that states, “Most information presented on the USDA Web site is considered public domain information. Public domain information may be freely distributed or copied, but use of appropriate byline/photo/image credits is requested. Attribution may be cited as follows: “U.S. Department of Agriculture… Some material on the USDA Web site are protected by copyright, trademark, or patent, and/or are provided for personal use only… and USDA has made every attempt to identify and clearly label them.” The lottery data is assumed to be available to be public domain, given that the lottery is held by the USFS, the document is not labeled as being copyrighted, and the dataset does not have any personal information. The dataset is appropriate for analyzing Plan B because it is the only known dataset containing Enchantments permit lottery data, as it’s coming from the lottery operator (the USFS). There does not appear to be any immediate ethical concerns with using the dataset, aside from potentially increasing one’s chances of gaining a permit should the resulting analysis be accurate. If the days to select or methods of increasing one’s chances of receiving a permit is released publicly, an influx of applicants may try to submit information that increase their chances of obtaining a permit. \n",
    "\n",
    "\n",
    "# Unknowns and Dependencies\n",
    "Plan A contains more unknowns, since it is a lengthier project that would require scraping for data. The need to scrape for data already introduces complications, such as if permission isn’t granted, or if the scraper does not work as intended. Naturally, because Plan A contains an additional data scraping step, it is also at higher risk than Plan B of running behind schedule or not being able to complete in time by the end of the quarter. As a graduating senior, I have a commitment to capstone, as well as gaining a full-time job post-graduation, and moving out of my current apartment back home which will also require a significant time investment. \n",
    "\n",
    "Overall, while Plan A is more interesting, Plan B seems to be more feasible since it requires an already-provided dataset, is a smaller dataset, and has a smaller set of possible questions to be answered (e.g., less time needed to choose what exactly to analyze). \n"
   ]
  }
 ],
 "metadata": {
  "kernelspec": {
   "display_name": "Python 3",
   "language": "python",
   "name": "python3"
  },
  "language_info": {
   "codemirror_mode": {
    "name": "ipython",
    "version": 3
   },
   "file_extension": ".py",
   "mimetype": "text/x-python",
   "name": "python",
   "nbconvert_exporter": "python",
   "pygments_lexer": "ipython3",
   "version": "3.8.8"
  }
 },
 "nbformat": 4,
 "nbformat_minor": 5
}
